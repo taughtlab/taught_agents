{
 "cells": [
  {
   "cell_type": "code",
   "execution_count": 0,
   "metadata": {
    "application/vnd.databricks.v1+cell": {
     "cellMetadata": {
      "byteLimit": 2048000,
      "rowLimit": 10000
     },
     "inputWidgets": {},
     "nuid": "bef80efa-7341-48c5-94d4-7928ef023521",
     "showTitle": false,
     "tableResultSettingsMap": {},
     "title": ""
    }
   },
   "outputs": [],
   "source": [
    "%pip install langchain openai faiss-cpu sentence-transformers pandas numpy\n",
    "%pip install databricks-vectorsearch databricks-sdk\n",
    "dbutils.library.restartPython()"
   ]
  },
  {
   "cell_type": "code",
   "execution_count": 0,
   "metadata": {
    "application/vnd.databricks.v1+cell": {
     "cellMetadata": {
      "byteLimit": 2048000,
      "rowLimit": 10000
     },
     "inputWidgets": {},
     "nuid": "503e1cba-da8a-4b24-99ad-47715dd3f9d3",
     "showTitle": false,
     "tableResultSettingsMap": {},
     "title": ""
    }
   },
   "outputs": [],
   "source": [
    "import os\n",
    "from databricks.sdk import WorkspaceClient\n",
    "\n",
    "# Initialize Databricks client\n",
    "w = WorkspaceClient()\n",
    "\n",
    "# Set up API keys (store securely in Databricks secrets)\n",
    "OPENAI_API_KEY = dbutils.secrets.get(scope=\"ai_agent_secrets\", key=\"openai_api_key\")\n",
    "os.environ[\"OPENAI_API_KEY\"] = OPENAI_API_KEY"
   ]
  },
  {
   "cell_type": "code",
   "execution_count": 0,
   "metadata": {
    "application/vnd.databricks.v1+cell": {
     "cellMetadata": {
      "byteLimit": 2048000,
      "rowLimit": 10000
     },
     "inputWidgets": {},
     "nuid": "1b7db5f9-822c-4842-a50f-4bdacbb801b2",
     "showTitle": false,
     "tableResultSettingsMap": {},
     "title": ""
    }
   },
   "outputs": [],
   "source": [
    "# List available scopes (won't show secret values)\n",
    "dbutils.secrets.listScopes()\n",
    "\n",
    "# List keys in a scope (won't show values)\n",
    "dbutils.secrets.list(\"ai_agent_secrets\")\n",
    "\n",
    "# Use secrets in code (values are redacted in output)\n",
    "api_key = dbutils.secrets.get(scope=\"ai_agent_secrets\", key=\"openai_api_key\")\n",
    "print(f\"API Key retrieved: {api_key}\")  # Will show [REDACTED]"
   ]
  }
 ],
 "metadata": {
  "application/vnd.databricks.v1+notebook": {
   "computePreferences": null,
   "dashboards": [],
   "environmentMetadata": {
    "base_environment": "",
    "environment_version": "2"
   },
   "inputWidgetPreferences": null,
   "language": "python",
   "notebookMetadata": {
    "mostRecentlyExecutedCommandWithImplicitDF": {
     "commandId": 8218074257825545,
     "dataframes": [
      "_sqldf"
     ]
    },
    "pythonIndentUnit": 4
   },
   "notebookName": "step_1_setup",
   "widgets": {}
  },
  "language_info": {
   "name": "python"
  }
 },
 "nbformat": 4,
 "nbformat_minor": 0
}
