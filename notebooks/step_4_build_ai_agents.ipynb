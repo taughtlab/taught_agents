{
 "cells": [
  {
   "cell_type": "code",
   "execution_count": 0,
   "metadata": {
    "application/vnd.databricks.v1+cell": {
     "cellMetadata": {
      "byteLimit": 2048000,
      "rowLimit": 10000
     },
     "inputWidgets": {},
     "nuid": "56b6458f-cfa2-453e-ae4e-a0092b1dc211",
     "showTitle": false,
     "tableResultSettingsMap": {},
     "title": ""
    }
   },
   "outputs": [],
   "source": [
    "# Make sure these are set from previous steps\n",
    "catalog_name = \"dev_1899989130012056\"\n",
    "schema_name = \"ai_agents\"\n",
    "table_name = f\"{catalog_name}.{schema_name}.compliance_docs\"\n",
    "\n",
    "# Get OpenAI API key\n",
    "import openai\n",
    "OPENAI_API_KEY = dbutils.secrets.get(scope=\"ai_agent_secrets\", key=\"openai_api_key\")\n",
    "openai.api_key = OPENAI_API_KEY\n",
    "\n",
    "# Recreate the embedding function\n",
    "def get_embedding(text, model=\"text-embedding-ada-002\"):\n",
    "    \"\"\"Get embedding using OpenAI API\"\"\"\n",
    "    response = openai.Embedding.create(\n",
    "        input=text,\n",
    "        model=model\n",
    "    )\n",
    "    return response['data'][0]['embedding']\n",
    "\n",
    "# Recreate the search function\n",
    "import numpy as np\n",
    "\n",
    "def find_similar_docs(query, k=3):\n",
    "    \"\"\"Simple vector similarity search\"\"\"\n",
    "    # Generate query embedding\n",
    "    query_embedding = np.array(get_embedding(query))\n",
    "    \n",
    "    # Get all documents\n",
    "    docs = spark.table(table_name).toPandas()\n",
    "    \n",
    "    # Calculate similarities\n",
    "    similarities = []\n",
    "    for idx, row in docs.iterrows():\n",
    "        doc_embedding = np.array(row['embedding'])\n",
    "        # Cosine similarity\n",
    "        similarity = np.dot(query_embedding, doc_embedding) / (\n",
    "            np.linalg.norm(query_embedding) * np.linalg.norm(doc_embedding)\n",
    "        )\n",
    "        similarities.append((similarity, row))\n",
    "    \n",
    "    # Sort and return top k\n",
    "    similarities.sort(key=lambda x: x[0], reverse=True)\n",
    "    return [doc for _, doc in similarities[:k]]"
   ]
  },
  {
   "cell_type": "code",
   "execution_count": 0,
   "metadata": {
    "application/vnd.databricks.v1+cell": {
     "cellMetadata": {
      "byteLimit": 2048000,
      "rowLimit": 10000
     },
     "inputWidgets": {},
     "nuid": "9ccc6bed-f1bf-4443-bfa2-9bfc80e41b48",
     "showTitle": false,
     "tableResultSettingsMap": {},
     "title": ""
    }
   },
   "outputs": [],
   "source": [
    "from langchain.chat_models import ChatOpenAI\n",
    "from langchain.prompts import ChatPromptTemplate\n",
    "\n",
    "# Initialize LLM\n",
    "llm = ChatOpenAI(\n",
    "    model_name=\"gpt-3.5-turbo\",\n",
    "    temperature=0.1,\n",
    "    api_key=OPENAI_API_KEY\n",
    ")\n",
    "\n",
    "# Create compliance prompt template\n",
    "compliance_prompt = ChatPromptTemplate.from_template(\"\"\"\n",
    "You are a financial compliance assistant. Use the following documents to answer the question.\n",
    "\n",
    "Documents:\n",
    "{context}\n",
    "\n",
    "Question: {question}\n",
    "\n",
    "Provide a clear, accurate answer based on the documents.\n",
    "Answer:\n",
    "\"\"\")\n",
    "\n",
    "def answer_compliance_question(question):\n",
    "    \"\"\"Answer compliance questions using relevant documents\"\"\"\n",
    "    \n",
    "    # Find relevant documents\n",
    "    relevant_docs = find_similar_docs(question, k=2)\n",
    "    \n",
    "    # Create context from documents\n",
    "    context = \"\\n\\n\".join([\n",
    "        f\"Document: {doc['title']}\\nContent: {doc['content']}\"\n",
    "        for doc in relevant_docs\n",
    "    ])\n",
    "    \n",
    "    # Generate answer\n",
    "    prompt = compliance_prompt.format(context=context, question=question)\n",
    "    response = llm.predict(prompt)\n",
    "    \n",
    "    return {\n",
    "        \"answer\": response,\n",
    "        \"sources\": [doc['title'] for doc in relevant_docs]\n",
    "    }\n",
    "\n",
    "# Test the agent\n",
    "test_question = \"What are the daily transaction limits?\"\n",
    "result = answer_compliance_question(test_question)\n",
    "print(f\"Question: {test_question}\")\n",
    "print(f\"Answer: {result['answer']}\")\n",
    "print(f\"Sources: {result['sources']}\")"
   ]
  }
 ],
 "metadata": {
  "application/vnd.databricks.v1+notebook": {
   "computePreferences": null,
   "dashboards": [],
   "environmentMetadata": {
    "base_environment": "",
    "environment_version": "2"
   },
   "inputWidgetPreferences": null,
   "language": "python",
   "notebookMetadata": {
    "pythonIndentUnit": 4
   },
   "notebookName": "step_4_build_ai_agents",
   "widgets": {}
  },
  "language_info": {
   "name": "python"
  }
 },
 "nbformat": 4,
 "nbformat_minor": 0
}
