{
 "cells": [
  {
   "cell_type": "code",
   "execution_count": 0,
   "metadata": {
    "application/vnd.databricks.v1+cell": {
     "cellMetadata": {
      "byteLimit": 2048000,
      "rowLimit": 10000
     },
     "inputWidgets": {},
     "nuid": "82462b97-395a-4f11-8afc-d56ddf915086",
     "showTitle": false,
     "tableResultSettingsMap": {},
     "title": ""
    }
   },
   "outputs": [],
   "source": [
    "# Ensure all dependencies from previous steps are available\n",
    "catalog_name = \"dev_1899989130012056\"\n",
    "schema_name = \"ai_agents\"\n",
    "table_name = f\"{catalog_name}.{schema_name}.compliance_docs\"\n",
    "\n",
    "# Import required libraries\n",
    "import openai\n",
    "import numpy as np\n",
    "from langchain.chat_models import ChatOpenAI\n",
    "from langchain.prompts import ChatPromptTemplate\n",
    "\n",
    "# Get API key\n",
    "OPENAI_API_KEY = dbutils.secrets.get(scope=\"ai_agent_secrets\", key=\"openai_api_key\")\n",
    "openai.api_key = OPENAI_API_KEY\n",
    "\n",
    "# Set up the embedding function\n",
    "def get_embedding(text, model=\"text-embedding-ada-002\"):\n",
    "    response = openai.Embedding.create(input=text, model=model)\n",
    "    return response['data'][0]['embedding']\n",
    "\n",
    "# Set up the search function\n",
    "def find_similar_docs(query, k=3):\n",
    "    query_embedding = np.array(get_embedding(query))\n",
    "    docs = spark.table(table_name).toPandas()\n",
    "    \n",
    "    similarities = []\n",
    "    for idx, row in docs.iterrows():\n",
    "        doc_embedding = np.array(row['embedding'])\n",
    "        similarity = np.dot(query_embedding, doc_embedding) / (\n",
    "            np.linalg.norm(query_embedding) * np.linalg.norm(doc_embedding)\n",
    "        )\n",
    "        similarities.append((similarity, row))\n",
    "    \n",
    "    similarities.sort(key=lambda x: x[0], reverse=True)\n",
    "    return [doc for _, doc in similarities[:k]]\n",
    "\n",
    "# Set up the LLM and compliance function\n",
    "llm = ChatOpenAI(model_name=\"gpt-3.5-turbo\", temperature=0.1, api_key=OPENAI_API_KEY)\n",
    "\n",
    "compliance_prompt = ChatPromptTemplate.from_template(\"\"\"\n",
    "You are a financial compliance assistant. Use the following documents to answer the question.\n",
    "\n",
    "Documents:\n",
    "{context}\n",
    "\n",
    "Question: {question}\n",
    "\n",
    "Provide a clear, accurate answer based on the documents.\n",
    "Answer:\n",
    "\"\"\")\n",
    "\n",
    "def answer_compliance_question(question):\n",
    "    relevant_docs = find_similar_docs(question, k=2)\n",
    "    context = \"\\n\\n\".join([\n",
    "        f\"Document: {doc['title']}\\nContent: {doc['content']}\"\n",
    "        for doc in relevant_docs\n",
    "    ])\n",
    "    \n",
    "    prompt = compliance_prompt.format(context=context, question=question)\n",
    "    response = llm.predict(prompt)\n",
    "    \n",
    "    return {\n",
    "        \"answer\": response,\n",
    "        \"sources\": [doc['title'] for doc in relevant_docs]\n",
    "    }"
   ]
  },
  {
   "cell_type": "code",
   "execution_count": 0,
   "metadata": {
    "application/vnd.databricks.v1+cell": {
     "cellMetadata": {
      "byteLimit": 2048000,
      "rowLimit": 10000
     },
     "inputWidgets": {},
     "nuid": "3d52adb5-0785-45f0-b36e-864f993467ab",
     "showTitle": false,
     "tableResultSettingsMap": {},
     "title": ""
    }
   },
   "outputs": [],
   "source": [
    "def chat_with_agent():\n",
    "    \"\"\"Simple interactive chat with the compliance agent\"\"\"\n",
    "    print(\"Financial Compliance AI Agent\")\n",
    "    print(\"Type 'exit' to quit\")\n",
    "    print(\"-\" * 50)\n",
    "    \n",
    "    while True:\n",
    "        question = input(\"\\nYour question: \")\n",
    "        if question.lower() == 'exit':\n",
    "            break\n",
    "            \n",
    "        print(\"\\nThinking...\")\n",
    "        result = answer_compliance_question(question)\n",
    "        \n",
    "        print(f\"\\nAnswer: {result['answer']}\")\n",
    "        print(f\"\\nSources: {', '.join(result['sources'])}\")\n",
    "        print(\"-\" * 50)\n",
    "\n",
    "# Run the chat interface\n",
    "# chat_with_agent()  # Uncomment to run interactive chat"
   ]
  },
  {
   "cell_type": "code",
   "execution_count": 0,
   "metadata": {
    "application/vnd.databricks.v1+cell": {
     "cellMetadata": {
      "byteLimit": 2048000,
      "rowLimit": 10000
     },
     "inputWidgets": {},
     "nuid": "5618b204-9661-4ff6-8b80-cec322f5453f",
     "showTitle": false,
     "tableResultSettingsMap": {},
     "title": ""
    }
   },
   "outputs": [],
   "source": [
    "# Create widgets for Databricks notebook interface\n",
    "dbutils.widgets.text(\"question\", \"What are KYC requirements?\", \"Ask a compliance question\")\n",
    "dbutils.widgets.dropdown(\"analysis_type\", \"Q&A\", [\"Q&A\", \"Transaction Check\", \"Report\"], \"Analysis Type\")\n",
    "\n",
    "# Get widget values\n",
    "question = dbutils.widgets.get(\"question\")\n",
    "analysis_type = dbutils.widgets.get(\"analysis_type\")\n",
    "\n",
    "# Process based on analysis type\n",
    "if analysis_type == \"Q&A\":\n",
    "    result = answer_compliance_question(question)\n",
    "    print(f\"Question: {question}\")\n",
    "    print(f\"\\nAnswer: {result['answer']}\")\n",
    "    print(f\"\\nSources: {', '.join(result['sources'])}\")\n",
    "    \n",
    "elif analysis_type == \"Transaction Check\":\n",
    "    # Example transaction\n",
    "    transaction = {\n",
    "        \"amount\": 15000,\n",
    "        \"type\": \"international\",\n",
    "        \"customer_type\": \"personal\"\n",
    "    }\n",
    "    print(f\"Checking transaction: {transaction}\")\n",
    "    result = answer_compliance_question(\n",
    "        f\"Is a ${transaction['amount']} {transaction['type']} transfer allowed for {transaction['customer_type']} accounts?\"\n",
    "    )\n",
    "    print(f\"\\nCompliance Check: {result['answer']}\")"
   ]
  }
 ],
 "metadata": {
  "application/vnd.databricks.v1+notebook": {
   "computePreferences": null,
   "dashboards": [],
   "environmentMetadata": {
    "base_environment": "",
    "environment_version": "2"
   },
   "inputWidgetPreferences": null,
   "language": "python",
   "notebookMetadata": {
    "pythonIndentUnit": 4
   },
   "notebookName": "step_5_create_simple_ui",
   "widgets": {
    "analysis_type": {
     "currentValue": "Report",
     "nuid": "1bb807d2-9c91-4b27-b5af-1d7bb93da7b3",
     "typedWidgetInfo": {
      "autoCreated": false,
      "defaultValue": "Q&A",
      "label": "Analysis Type",
      "name": "analysis_type",
      "options": {
       "widgetDisplayType": "Dropdown",
       "choices": [
        "Q&A",
        "Transaction Check",
        "Report"
       ],
       "fixedDomain": true,
       "multiselect": false
      },
      "parameterDataType": "String"
     },
     "widgetInfo": {
      "widgetType": "dropdown",
      "defaultValue": "Q&A",
      "label": "Analysis Type",
      "name": "analysis_type",
      "options": {
       "widgetType": "dropdown",
       "autoCreated": null,
       "choices": [
        "Q&A",
        "Transaction Check",
        "Report"
       ]
      }
     }
    },
    "question": {
     "currentValue": "What are KYC requirements?",
     "nuid": "d63dd43e-7908-4903-aa6d-f011f573b9fb",
     "typedWidgetInfo": {
      "autoCreated": false,
      "defaultValue": "What are KYC requirements?",
      "label": "Ask a compliance question",
      "name": "question",
      "options": {
       "widgetDisplayType": "Text",
       "validationRegex": null
      },
      "parameterDataType": "String"
     },
     "widgetInfo": {
      "widgetType": "text",
      "defaultValue": "What are KYC requirements?",
      "label": "Ask a compliance question",
      "name": "question",
      "options": {
       "widgetType": "text",
       "autoCreated": null,
       "validationRegex": null
      }
     }
    }
   }
  },
  "language_info": {
   "name": "python"
  }
 },
 "nbformat": 4,
 "nbformat_minor": 0
}
