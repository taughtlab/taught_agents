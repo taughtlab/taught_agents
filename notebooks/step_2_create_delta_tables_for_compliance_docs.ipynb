{
 "cells": [
  {
   "cell_type": "code",
   "execution_count": 0,
   "metadata": {
    "application/vnd.databricks.v1+cell": {
     "cellMetadata": {
      "byteLimit": 2048000,
      "rowLimit": 10000
     },
     "inputWidgets": {},
     "nuid": "60c2202b-9de1-4632-9027-051a48a43cc3",
     "showTitle": false,
     "tableResultSettingsMap": {},
     "title": ""
    }
   },
   "outputs": [],
   "source": [
    "%sql\n",
    "-- Use your existing catalog\n",
    "USE CATALOG dev_1899989130012056;\n",
    "\n",
    "-- Create a dedicated schema for the AI agent\n",
    "CREATE SCHEMA IF NOT EXISTS ai_agents;\n",
    "USE SCHEMA ai_agents;\n",
    "\n",
    "-- Create table for compliance documents\n",
    "CREATE TABLE IF NOT EXISTS compliance_docs (\n",
    "    doc_id STRING,\n",
    "    title STRING,\n",
    "    content STRING,\n",
    "    doc_type STRING,\n",
    "    created_date DATE\n",
    ") USING DELTA;"
   ]
  },
  {
   "cell_type": "code",
   "execution_count": 0,
   "metadata": {
    "application/vnd.databricks.v1+cell": {
     "cellMetadata": {
      "byteLimit": 2048000,
      "rowLimit": 10000
     },
     "inputWidgets": {},
     "nuid": "324f780f-af22-4ea3-8221-e601546c1fca",
     "showTitle": false,
     "tableResultSettingsMap": {},
     "title": ""
    }
   },
   "outputs": [],
   "source": [
    "# Configuration\n",
    "catalog_name = \"dev_1899989130012056\"  # Your existing catalog\n",
    "schema_name = \"ai_agents\"\n",
    "table_name = f\"{catalog_name}.{schema_name}.compliance_docs\"\n",
    "\n",
    "print(f\"Using table: {table_name}\")"
   ]
  },
  {
   "cell_type": "code",
   "execution_count": 0,
   "metadata": {
    "application/vnd.databricks.v1+cell": {
     "cellMetadata": {
      "byteLimit": 2048000,
      "rowLimit": 10000
     },
     "inputWidgets": {},
     "nuid": "ed9f8c8a-45ff-4c20-ada5-f4dc194cad64",
     "showTitle": false,
     "tableResultSettingsMap": {},
     "title": ""
    }
   },
   "outputs": [],
   "source": [
    "### 2.2 Load Sample Compliance Data\n",
    "from datetime import datetime\n",
    "\n",
    "# Simplified compliance documents\n",
    "compliance_data = [\n",
    "    {\n",
    "        \"doc_id\": \"KYC001\",\n",
    "        \"title\": \"Know Your Customer Requirements\",\n",
    "        \"content\": \"Banks must verify customer identity including: full name, date of birth, address, and ID. Enhanced checks for high-risk customers.\",\n",
    "        \"doc_type\": \"KYC\",\n",
    "        \"created_date\": datetime.now().date()\n",
    "    },\n",
    "    {\n",
    "        \"doc_id\": \"AML002\",\n",
    "        \"title\": \"Anti-Money Laundering Rules\",\n",
    "        \"content\": \"Monitor transactions for suspicious patterns. Report transactions over $10,000. Check against sanctions lists.\",\n",
    "        \"doc_type\": \"AML\",\n",
    "        \"created_date\": datetime.now().date()\n",
    "    },\n",
    "    {\n",
    "        \"doc_id\": \"TRANS003\",\n",
    "        \"title\": \"Transaction Limits\",\n",
    "        \"content\": \"Daily limits: Personal accounts $10,000, Business accounts $50,000. International transfers require additional verification.\",\n",
    "        \"doc_type\": \"Transaction\",\n",
    "        \"created_date\": datetime.now().date()\n",
    "    }\n",
    "]\n",
    "\n",
    "# Save to table\n",
    "df = spark.createDataFrame(compliance_data)\n",
    "df.write.mode(\"overwrite\").saveAsTable(table_name)\n",
    "print(f\"Loaded {df.count()} compliance documents\")"
   ]
  }
 ],
 "metadata": {
  "application/vnd.databricks.v1+notebook": {
   "computePreferences": null,
   "dashboards": [],
   "environmentMetadata": {
    "base_environment": "",
    "environment_version": "2"
   },
   "inputWidgetPreferences": null,
   "language": "python",
   "notebookMetadata": {
    "mostRecentlyExecutedCommandWithImplicitDF": {
     "commandId": 8841586885880869,
     "dataframes": [
      "_sqldf"
     ]
    },
    "pythonIndentUnit": 4
   },
   "notebookName": "step_2_create_delta_tables_for_compliance_docs",
   "widgets": {}
  },
  "language_info": {
   "name": "python"
  }
 },
 "nbformat": 4,
 "nbformat_minor": 0
}
