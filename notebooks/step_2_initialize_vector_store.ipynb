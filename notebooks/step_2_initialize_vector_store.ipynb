{
 "cells": [
  {
   "cell_type": "code",
   "execution_count": 0,
   "metadata": {
    "application/vnd.databricks.v1+cell": {
     "cellMetadata": {
      "byteLimit": 2048000,
      "rowLimit": 10000
     },
     "inputWidgets": {},
     "nuid": "ebae9806-e481-4b52-9f17-999664eccdfa",
     "showTitle": false,
     "tableResultSettingsMap": {},
     "title": ""
    }
   },
   "outputs": [],
   "source": [
    "# Run this in the first cell of your notebook\n",
    "%pip install langchain==0.1.0 chromadb==0.4.0 sentence-transformers==2.2.2 openai==1.0.0 torch\n",
    "\n",
    "# Restart the Python kernel after installation\n",
    "dbutils.library.restartPython()"
   ]
  },
  {
   "cell_type": "code",
   "execution_count": 0,
   "metadata": {
    "application/vnd.databricks.v1+cell": {
     "cellMetadata": {
      "byteLimit": 2048000,
      "rowLimit": 10000
     },
     "inputWidgets": {},
     "nuid": "4a05fb77-39d1-489a-98a3-c10e1b72fbc1",
     "showTitle": false,
     "tableResultSettingsMap": {},
     "title": ""
    }
   },
   "outputs": [],
   "source": [
    "from langchain.vectorstores import Chroma\n",
    "from langchain.embeddings import HuggingFaceEmbeddings\n",
    "import chromadb\n",
    "from chromadb.config import Settings\n",
    "import os\n",
    "\n",
    "# Create directory if it doesn't exist\n",
    "os.makedirs(\"/dbfs/vector_store\", exist_ok=True)\n",
    "\n",
    "# Initialize embeddings model for CPU\n",
    "embeddings = HuggingFaceEmbeddings(\n",
    "    model_name=\"sentence-transformers/all-MiniLM-L6-v2\",\n",
    "    model_kwargs={'device': 'cpu'},  # CPU-based embeddings\n",
    "    encode_kwargs={'normalize_embeddings': True}  # For better similarity search\n",
    ")\n",
    "\n",
    "# Test embeddings are working\n",
    "test_embedding = embeddings.embed_query(\"test\")\n",
    "print(f\"Embedding dimension: {len(test_embedding)}\")\n",
    "\n",
    "# Configure ChromaDB\n",
    "chroma_client = chromadb.Client(Settings(\n",
    "    chroma_db_impl=\"duckdb+parquet\",\n",
    "    persist_directory=\"/dbfs/vector_store\"\n",
    "))\n",
    "\n",
    "# Create collection\n",
    "collection_name = \"knowledge_base\"\n",
    "vector_store = Chroma(\n",
    "    collection_name=collection_name,\n",
    "    embedding_function=embeddings,\n",
    "    client=chroma_client,\n",
    "    persist_directory=\"/dbfs/vector_store\"\n",
    ")"
   ]
  }
 ],
 "metadata": {
  "application/vnd.databricks.v1+notebook": {
   "computePreferences": null,
   "dashboards": [],
   "environmentMetadata": {
    "base_environment": "",
    "environment_version": "2"
   },
   "inputWidgetPreferences": null,
   "language": "python",
   "notebookMetadata": {
    "pythonIndentUnit": 4
   },
   "notebookName": "step_2_initialize_vector_store",
   "widgets": {}
  },
  "language_info": {
   "name": "python"
  }
 },
 "nbformat": 4,
 "nbformat_minor": 0
}
