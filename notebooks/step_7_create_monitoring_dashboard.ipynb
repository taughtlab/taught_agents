{
 "cells": [
  {
   "cell_type": "code",
   "execution_count": 0,
   "metadata": {
    "application/vnd.databricks.v1+cell": {
     "cellMetadata": {
      "byteLimit": 2048000,
      "rowLimit": 10000
     },
     "inputWidgets": {},
     "nuid": "afd6022f-9e5a-4480-a0b2-2bc0f094fcec",
     "showTitle": false,
     "tableResultSettingsMap": {},
     "title": ""
    }
   },
   "outputs": [],
   "source": [
    "def update_metrics():\n",
    "    \"\"\"Update daily metrics\"\"\"\n",
    "    metrics = spark.sql(f\"\"\"\n",
    "        SELECT \n",
    "            current_date() as metric_date,\n",
    "            COUNT(*) as total_queries,\n",
    "            AVG(response_time) as avg_response_time,\n",
    "            AVG(rating) as satisfaction_rate\n",
    "        FROM {catalog_name}.{schema_name}.agent_feedback\n",
    "        WHERE DATE(timestamp) = current_date()\n",
    "    \"\"\")\n",
    "    \n",
    "    metrics.write.mode(\"append\").saveAsTable(\n",
    "        f\"{catalog_name}.{schema_name}.agent_metrics\"\n",
    "    )"
   ]
  }
 ],
 "metadata": {
  "application/vnd.databricks.v1+notebook": {
   "computePreferences": null,
   "dashboards": [],
   "environmentMetadata": {
    "base_environment": "",
    "environment_version": "2"
   },
   "inputWidgetPreferences": null,
   "language": "python",
   "notebookMetadata": {
    "pythonIndentUnit": 4
   },
   "notebookName": "step_7_create_monitoring_dashboard",
   "widgets": {}
  },
  "language_info": {
   "name": "python"
  }
 },
 "nbformat": 4,
 "nbformat_minor": 0
}
