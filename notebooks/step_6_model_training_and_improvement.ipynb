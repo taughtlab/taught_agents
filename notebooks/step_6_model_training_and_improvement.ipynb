{
 "cells": [
  {
   "cell_type": "code",
   "execution_count": 0,
   "metadata": {
    "application/vnd.databricks.v1+cell": {
     "cellMetadata": {
      "byteLimit": 2048000,
      "implicitDf": true,
      "rowLimit": 10000
     },
     "inputWidgets": {},
     "nuid": "96d41fb0-8ec9-48ed-b6b6-eb38af523709",
     "showTitle": false,
     "tableResultSettingsMap": {},
     "title": ""
    }
   },
   "outputs": [],
   "source": [
    "%sql\n",
    "-- Create feedback table using SQL\n",
    "USE CATALOG dev_1899989130012056;\n",
    "USE SCHEMA ai_agents;\n",
    "\n",
    "CREATE TABLE IF NOT EXISTS agent_feedback (\n",
    "    feedback_id STRING,\n",
    "    question STRING,\n",
    "    answer STRING,\n",
    "    rating INT,\n",
    "    comments STRING,\n",
    "    timestamp TIMESTAMP\n",
    ") USING DELTA;\n",
    "\n",
    "-- Create metrics table\n",
    "CREATE TABLE IF NOT EXISTS agent_metrics (\n",
    "    metric_date DATE,\n",
    "    total_queries INT,\n",
    "    avg_response_time FLOAT,\n",
    "    satisfaction_rate FLOAT,\n",
    "    top_topics ARRAY<STRING>\n",
    ") USING DELTA;"
   ]
  },
  {
   "cell_type": "code",
   "execution_count": 0,
   "metadata": {
    "application/vnd.databricks.v1+cell": {
     "cellMetadata": {
      "byteLimit": 2048000,
      "rowLimit": 10000
     },
     "inputWidgets": {},
     "nuid": "1c3c9aa9-54ee-459a-a089-295a337ce2ed",
     "showTitle": false,
     "tableResultSettingsMap": {},
     "title": ""
    }
   },
   "outputs": [],
   "source": [
    "import uuid\n",
    "\n",
    "def log_feedback(question, answer, rating, comments=\"\"):\n",
    "    \"\"\"Log user feedback for continuous improvement\"\"\"\n",
    "    feedback_data = [{\n",
    "        \"feedback_id\": str(uuid.uuid4()),\n",
    "        \"question\": question,\n",
    "        \"answer\": answer,\n",
    "        \"rating\": rating,\n",
    "        \"comments\": comments,\n",
    "        \"timestamp\": datetime.now()\n",
    "    }]\n",
    "    \n",
    "    spark.createDataFrame(feedback_data).write.mode(\"append\").saveAsTable(\n",
    "        f\"{catalog_name}.{schema_name}.agent_feedback\"\n",
    "    )"
   ]
  },
  {
   "cell_type": "code",
   "execution_count": 0,
   "metadata": {
    "application/vnd.databricks.v1+cell": {
     "cellMetadata": {
      "byteLimit": 2048000,
      "rowLimit": 10000
     },
     "inputWidgets": {},
     "nuid": "a2e25357-00d9-4af8-88d4-28e0fc925b12",
     "showTitle": false,
     "tableResultSettingsMap": {},
     "title": ""
    }
   },
   "outputs": [],
   "source": [
    "# Prepare training data from feedback\n",
    "def prepare_training_data():\n",
    "    \"\"\"Prepare high-quality Q&A pairs for fine-tuning\"\"\"\n",
    "    \n",
    "    # Get positive feedback examples\n",
    "    good_examples = spark.sql(f\"\"\"\n",
    "        SELECT question, answer \n",
    "        FROM {catalog_name}.{schema_name}.agent_feedback\n",
    "        WHERE rating >= 4\n",
    "    \"\"\").toPandas()\n",
    "    \n",
    "    return good_examples\n",
    "\n",
    "# Note: Actual fine-tuning would require additional setup\n",
    "# This is a placeholder for the fine-tuning process"
   ]
  }
 ],
 "metadata": {
  "application/vnd.databricks.v1+notebook": {
   "computePreferences": null,
   "dashboards": [],
   "environmentMetadata": {
    "base_environment": "",
    "environment_version": "2"
   },
   "inputWidgetPreferences": null,
   "language": "python",
   "notebookMetadata": {
    "mostRecentlyExecutedCommandWithImplicitDF": {
     "commandId": 7196230229394774,
     "dataframes": [
      "_sqldf"
     ]
    },
    "pythonIndentUnit": 4
   },
   "notebookName": "step_6_model_training_and_improvement",
   "widgets": {}
  },
  "language_info": {
   "name": "python"
  }
 },
 "nbformat": 4,
 "nbformat_minor": 0
}
